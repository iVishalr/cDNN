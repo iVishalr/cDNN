{
 "cells": [
  {
   "cell_type": "code",
   "execution_count": null,
   "metadata": {},
   "outputs": [],
   "source": [
    "! pip3 install python-mnist "
   ]
  },
  {
   "cell_type": "code",
   "execution_count": 1,
   "metadata": {},
   "outputs": [],
   "source": [
    "import numpy as np\n",
    "import matplotlib.pyplot as plt\n",
    "from mnist import MNIST\n",
    "from tqdm import tqdm\n",
    "import os"
   ]
  },
  {
   "cell_type": "code",
   "execution_count": 2,
   "metadata": {},
   "outputs": [],
   "source": [
    "MNIST_data = MNIST(\"./data\")"
   ]
  },
  {
   "cell_type": "code",
   "execution_count": 3,
   "metadata": {},
   "outputs": [],
   "source": [
    "train_set = MNIST_data.load_training()\n",
    "test_set = MNIST_data.load_testing()"
   ]
  },
  {
   "cell_type": "code",
   "execution_count": 4,
   "metadata": {},
   "outputs": [],
   "source": [
    "train_x,train_y = train_set\n",
    "test_x,test_y = test_set"
   ]
  },
  {
   "cell_type": "code",
   "execution_count": 5,
   "metadata": {},
   "outputs": [],
   "source": [
    "train_x = [(np.array(i))/255.0 for i in train_x]\n",
    "test_x = [(np.array(i))/255.0 for i in test_x]"
   ]
  },
  {
   "cell_type": "code",
   "execution_count": 6,
   "metadata": {},
   "outputs": [
    {
     "name": "stdout",
     "output_type": "stream",
     "text": [
      "correct label =  1\n"
     ]
    },
    {
     "data": {
      "text/plain": [
       "<matplotlib.image.AxesImage at 0x7f7f17850370>"
      ]
     },
     "execution_count": 6,
     "metadata": {},
     "output_type": "execute_result"
    },
    {
     "data": {
      "image/png": "[encoded data removed]",
      "text/plain": [
       "<Figure size 432x288 with 1 Axes>"
      ]
     },
     "metadata": {
      "needs_background": "light"
     },
     "output_type": "display_data"
    }
   ],
   "source": [
    "print(\"correct label = \", train_y[3])\n",
    "plt.imshow(train_x[3].reshape((28,28,1)),cmap=\"gray\")"
   ]
  },
  {
   "cell_type": "code",
   "execution_count": 7,
   "metadata": {},
   "outputs": [],
   "source": [
    "train_labels = [np.eye(10)[train_y[i]] for i in range(len(train_y))]\n",
    "test_labels = [np.eye(10)[test_y[i]] for i in range(len(test_y))]"
   ]
  },
  {
   "cell_type": "code",
   "execution_count": 8,
   "metadata": {},
   "outputs": [
    {
     "name": "stderr",
     "output_type": "stream",
     "text": [
      "100%|██████████| 55000/55000 [00:31<00:00, 1761.52it/s]\n",
      "100%|██████████| 5000/5000 [00:02<00:00, 2254.43it/s]\n",
      "100%|██████████| 10000/10000 [00:05<00:00, 1828.44it/s]\n"
     ]
    }
   ],
   "source": [
    "if not os.path.exists(\"./train/\"):\n",
    "    os.mkdir(\"./train\")\n",
    "if not os.path.exists(\"./val/\"):\n",
    "    os.mkdir(\"./val\")\n",
    "if not os.path.exists(\"./test/\"):\n",
    "    os.mkdir(\"./test\")\n",
    "\n",
    "file = open(\"./train/train_x.t7\",\"w+\")\n",
    "for images in tqdm(train_x[:55000],total=len(train_x[:55000])):\n",
    "    image = images.astype(float).tolist()\n",
    "    for pixels in image:\n",
    "        file.write(\"%s \"%pixels)\n",
    "file.close()\n",
    "\n",
    "file = open(\"./val/val_x.t7\",\"w+\")\n",
    "for images in tqdm(train_x[55000:],total=len(train_x[55000:])):\n",
    "    image = images.astype(float).tolist()\n",
    "    for pixels in image:\n",
    "        file.write(\"%s \"%pixels)\n",
    "file.close()\n",
    "\n",
    "file = open(\"./test/test_x.t7\",\"w+\")\n",
    "for images in tqdm(test_x,total=len(test_x)):\n",
    "    image = images.astype(float).tolist()\n",
    "    for pixels in image:\n",
    "        file.write(\"%s \"%pixels)\n",
    "file.close()"
   ]
  },
  {
   "cell_type": "code",
   "execution_count": 9,
   "metadata": {},
   "outputs": [
    {
     "name": "stderr",
     "output_type": "stream",
     "text": [
      "100%|██████████| 55000/55000 [00:00<00:00, 131650.74it/s]\n",
      "100%|██████████| 5000/5000 [00:00<00:00, 142144.14it/s]\n",
      "100%|██████████| 10000/10000 [00:00<00:00, 123828.42it/s]\n"
     ]
    }
   ],
   "source": [
    "file = open(\"./train/train_y.t7\",\"w+\")\n",
    "for labels in tqdm(train_labels[:55000],total=len(train_labels[:55000])):\n",
    "    label_arr = labels.astype(float).tolist()\n",
    "    for label_val in label_arr:\n",
    "        file.write(\"%s \"%label_val)\n",
    "file.close()\n",
    "\n",
    "file = open(\"./val/val_y.t7\",\"w+\")\n",
    "for labels in tqdm(train_labels[55000:],total=len(train_labels[55000:])):\n",
    "    label_arr = labels.astype(float).tolist()\n",
    "    for label_val in label_arr:\n",
    "        file.write(\"%s \"%label_val)\n",
    "\n",
    "file.close()\n",
    "\n",
    "file = open(\"./test/test_y.t7\",\"w+\")\n",
    "for labels in tqdm(test_labels,total=len(test_labels)):\n",
    "    label_arr = labels.astype(float).tolist()\n",
    "    for label_val in label_arr:\n",
    "        file.write(\"%s \"%label_val)\n",
    "\n",
    "file.close()"
   ]
  },
  {
   "cell_type": "code",
   "execution_count": null,
   "metadata": {},
   "outputs": [],
   "source": []
  }
 ],
 "metadata": {
  "kernelspec": {
   "display_name": "Python 3",
   "language": "python",
   "name": "python3"
  },
  "language_info": {
   "codemirror_mode": {
    "name": "ipython",
    "version": 3
   },
   "file_extension": ".py",
   "mimetype": "text/x-python",
   "name": "python",
   "nbconvert_exporter": "python",
   "pygments_lexer": "ipython3",
   "version": "3.8.5"
  }
 },
 "nbformat": 4,
 "nbformat_minor": 4
}
